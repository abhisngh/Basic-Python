{
 "cells": [
  {
   "cell_type": "markdown",
   "metadata": {},
   "source": [
    "# Introduction"
   ]
  },
  {
   "cell_type": "markdown",
   "metadata": {},
   "source": [
    "In this mini project you are going to learn basic concepts of List, Functions, Iterative Statments(Loops) and Conditional Statments."
   ]
  },
  {
   "cell_type": "markdown",
   "metadata": {},
   "source": [
    "### Hangman Game"
   ]
  },
  {
   "cell_type": "markdown",
   "metadata": {},
   "source": [
    "Hangman is a word game in which computer will randomly select a word from the dictionary and player has to guess it correctly in given number of turns. The word to be guessed is represented by row of stars. If the guessed letter is present is word, script will automatically be placed to correct places."
   ]
  },
  {
   "cell_type": "markdown",
   "metadata": {},
   "source": [
    "**Rules to play:**"
   ]
  },
  {
   "cell_type": "markdown",
   "metadata": {},
   "source": [
    " * Player is allowed to enter only single character in one turn.\n",
    " * Avoid Repeated letters\n",
    " * After each guess, one turn will be decremented."
   ]
  },
  {
   "cell_type": "code",
   "execution_count": 3,
   "metadata": {},
   "outputs": [],
   "source": [
    "#Ways to create the list of words\n",
    "'''Either you can create the word document and read from there.\n",
    "                          OR\n",
    "   For pratice purpose create you're own list of words in the code itself''';"
   ]
  },
  {
   "cell_type": "code",
   "execution_count": 4,
   "metadata": {},
   "outputs": [],
   "source": [
    "#import random library to reduce the chance of biasing"
   ]
  },
  {
   "cell_type": "code",
   "execution_count": 6,
   "metadata": {},
   "outputs": [],
   "source": [
    "#This is the declaration of the function.\n",
    "#get_word in the name of function.\n",
    "#here there is no parameters passed with the function\n",
    "#Inside this the working of the function take place\n",
    "def get_word():\n",
    "    '''Here you need to implement the get_word function'''\n",
    "    '''If you are using txt file, use 'open' method with .read and .splitlines'''\n",
    "    '''If you are making the list here, create that'''\n",
    "    #Return the random choice from the list of word"
   ]
  },
  {
   "cell_type": "code",
   "execution_count": 7,
   "metadata": {},
   "outputs": [],
   "source": [
    "#Call the function and store the word in some variable"
   ]
  },
  {
   "cell_type": "code",
   "execution_count": 9,
   "metadata": {},
   "outputs": [],
   "source": [
    "#Use the loop to iterate over the length of word to print \"*\" and also print the length of the word\n",
    "#Use len() function to get the length of the word\n",
    "'''Syntax of the for loop'''\n",
    "'''for i in range(a,b):''';\n",
    "#here the i will be iterator that iterate over tha range from a to b-1"
   ]
  },
  {
   "cell_type": "code",
   "execution_count": 11,
   "metadata": {},
   "outputs": [],
   "source": [
    "#In this function you will check if the entered character is correct\n",
    "'''Function with three parameters'''\n",
    "def check_word(your_word,user_word,guess):\n",
    "    #Create an empty string and variable starts from zero\n",
    "    #Iterate over your_word\n",
    "        #If iterator found in user_word \n",
    "            '''Syntax of if'''\n",
    "            '''if conditon:'''\n",
    "            #Add the word to that string\n",
    "        #Else\n",
    "            #Add \"*\" to the string\n",
    "        #if iteartor is same as guess\n",
    "            #increment the value of variable\n",
    "    #If the variable is having more than one value\n",
    "        #print the variable and guess\n",
    "    #elif variable equals to 1\n",
    "        #print the guess\n",
    "    #return the string"
   ]
  },
  {
   "cell_type": "code",
   "execution_count": 12,
   "metadata": {},
   "outputs": [],
   "source": [
    "#Main game function\n",
    "#Here the main working of game is to be written\n",
    "def game():\n",
    "    #Start the variable guess from zero\n",
    "    #Create the bool variable as False \n",
    "    #Create an empty list, which store user_word\n",
    "    #Create a turn variable with the assign value as length(original_word)+1\n",
    "    #Create the copy of the turn variable\n",
    "    #Print the total turns to the user\n",
    "    #start the loop, with condition that till guess is less than total turns\n",
    "    '''Syntax of the while loop'''\n",
    "    '''while condition:\n",
    "            loop body\n",
    "            increase the iterator'''\n",
    "        #print the user to enter the guess word\n",
    "        #Decrease the copy of turns value\n",
    "        #print the turn left\n",
    "        #check if letter is already guessed\n",
    "            #print that already guessed word to the user\n",
    "        #elif length of guess is one\n",
    "            #apppend the letter to our list\n",
    "            #call check_word and save ans in some variable like ans\n",
    "            \n",
    "            #If ans is same as your_word\n",
    "                #Create bool variable as true\n",
    "                #print to the user that he/she won\n",
    "                #print the word\n",
    "            #else\n",
    "                #print the result\n",
    "                \n",
    "        #else\n",
    "            #print invalid entry\n",
    "        #increment guess value\n",
    "        #if guess equals to turns\n",
    "            #Print the user that match lost\n",
    "            #print the actual word"
   ]
  },
  {
   "cell_type": "code",
   "execution_count": 13,
   "metadata": {},
   "outputs": [],
   "source": [
    "'''call the game function''';"
   ]
  }
 ],
 "metadata": {
  "kernelspec": {
   "display_name": "Python 3",
   "language": "python",
   "name": "python3"
  },
  "language_info": {
   "codemirror_mode": {
    "name": "ipython",
    "version": 3
   },
   "file_extension": ".py",
   "mimetype": "text/x-python",
   "name": "python",
   "nbconvert_exporter": "python",
   "pygments_lexer": "ipython3",
   "version": "3.7.6"
  }
 },
 "nbformat": 4,
 "nbformat_minor": 4
}
