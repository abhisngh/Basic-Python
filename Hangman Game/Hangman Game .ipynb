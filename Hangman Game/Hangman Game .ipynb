{
 "cells": [
  {
   "cell_type": "code",
   "execution_count": 1,
   "metadata": {},
   "outputs": [],
   "source": [
    "'''Importing the random library'''\n",
    "import random\n",
    "'''Importing docx library to read the word from .docx file'''\n",
    "import docx"
   ]
  },
  {
   "cell_type": "code",
   "execution_count": 2,
   "metadata": {},
   "outputs": [],
   "source": [
    "'''Implementing get_word function'''\n",
    "#Here for understanding we are reading the text file\n",
    "#You can use list of words and apply random on it\n",
    "def get_word():\n",
    "    filename='Words.docx'\n",
    "    doc = docx.Document(filename)\n",
    "    'Creating list to store the words'\n",
    "    fullText = []\n",
    "    for para in doc.paragraphs:\n",
    "        fullText.append(para.text)\n",
    "    return random.choice(fullText)"
   ]
  },
  {
   "cell_type": "code",
   "execution_count": 3,
   "metadata": {},
   "outputs": [],
   "source": [
    "#Calling the above function\n",
    "our_word=get_word()"
   ]
  },
  {
   "cell_type": "code",
   "execution_count": 4,
   "metadata": {},
   "outputs": [
    {
     "name": "stdout",
     "output_type": "stream",
     "text": [
      "* * * * * * * * * \n",
      "Word has 9 letters\n",
      "Total turns: 10\n",
      "Enter your guess: i\n",
      "Turns left:  9\n",
      "2 i\n",
      "***i*i***\n",
      "Enter your guess: l\n",
      "Turns left:  8\n",
      "l\n",
      "**li*i***\n",
      "Enter your guess: u\n",
      "Turns left:  7\n",
      "u\n",
      "**li*i*u*\n",
      "Enter your guess: a\n",
      "Turns left:  6\n",
      "a\n",
      "*ali*i*u*\n",
      "Enter your guess: c\n",
      "Turns left:  5\n",
      "c\n",
      "*alici*u*\n",
      "Enter your guess: m\n",
      "Turns left:  4\n",
      "m\n",
      "malici*u*\n",
      "Enter your guess: o\n",
      "Turns left:  3\n",
      "o\n",
      "maliciou*\n",
      "Enter your guess: s\n",
      "Turns left:  2\n",
      "s\n",
      "You won\n",
      "The word is:  malicious\n"
     ]
    }
   ],
   "source": [
    "#Print the first line\n",
    "for i in our_word:\n",
    "    print('*',end=\" \")\n",
    "    \n",
    "#Finding the length of the word\n",
    "our_word_len=len(our_word)\n",
    "print(\"\\nWord has %d letters\"%our_word_len)\n",
    "\n",
    "'''Implementing check word function'''\n",
    "def check(our_word,user_word,guess):\n",
    "    status=\"\"\n",
    "    match=0\n",
    "    #Iterating over our_word\n",
    "    for letter in our_word:\n",
    "        if letter in user_word:\n",
    "            status+=letter\n",
    "        else:\n",
    "            status+='*'\n",
    "        if letter==guess:\n",
    "            match+=1\n",
    "    if match>1:\n",
    "        print(match,guess)\n",
    "    elif match==1:\n",
    "        print(guess)\n",
    "    return status\n",
    "\n",
    "'''Implementing game function'''\n",
    "def game():\n",
    "    guess_num=0\n",
    "    flag=False\n",
    "    #List to store the user_word\n",
    "    user_word=[]\n",
    "    turns=our_word_len+1\n",
    "    turns_temp=turns\n",
    "    \n",
    "    print(\"Total turns: %d\"%turns)\n",
    "    #Using while loop to iterate the guess till it become equals to total turns\n",
    "    while guess_num<turns_temp:\n",
    "        guess=input('Enter your guess: ')\n",
    "        #Decrement turn value\n",
    "        turns-=1\n",
    "        print('Turns left: ',turns)\n",
    "        if guess in user_word:\n",
    "            print('Already guessed letter')\n",
    "        elif len(guess)==1:\n",
    "            #append it to user_word list\n",
    "            user_word.append(guess)\n",
    "            ans=check(our_word,user_word,guess)\n",
    "            if ans==our_word:\n",
    "                print(\"You won\")\n",
    "                print(\"The word is: \",our_word)\n",
    "                break\n",
    "            else:\n",
    "                print(ans)\n",
    "        else:\n",
    "            print(\"Invalid entry\")\n",
    "        guess_num+=1\n",
    "    if(guess==turns_temp):\n",
    "        print(\"You lost\")\n",
    "        print(\"The word is: \",our_word)\n",
    "\n",
    "'''Calling game function'''\n",
    "game()"
   ]
  },
  {
   "cell_type": "code",
   "execution_count": null,
   "metadata": {},
   "outputs": [],
   "source": []
  },
  {
   "cell_type": "code",
   "execution_count": null,
   "metadata": {},
   "outputs": [],
   "source": []
  }
 ],
 "metadata": {
  "kernelspec": {
   "display_name": "Python 3",
   "language": "python",
   "name": "python3"
  },
  "language_info": {
   "codemirror_mode": {
    "name": "ipython",
    "version": 3
   },
   "file_extension": ".py",
   "mimetype": "text/x-python",
   "name": "python",
   "nbconvert_exporter": "python",
   "pygments_lexer": "ipython3",
   "version": "3.7.6"
  }
 },
 "nbformat": 4,
 "nbformat_minor": 4
}
